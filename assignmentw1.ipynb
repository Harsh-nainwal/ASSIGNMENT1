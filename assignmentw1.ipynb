{
 "cells": [
  {
   "cell_type": "markdown",
   "id": "2df3d020-655e-4bd4-9bc9-cecc7205ad47",
   "metadata": {},
   "source": [
    "Q1) Variable containing folowing type of data\n",
    "1) string\n",
    "2) list\n",
    "3) float\n",
    "4) tuple"
   ]
  },
  {
   "cell_type": "code",
   "execution_count": 1,
   "id": "7743c9a0-0498-414f-8685-dd4d350f59e9",
   "metadata": {},
   "outputs": [],
   "source": [
    "a = \"Shashi Kant Sharma\""
   ]
  },
  {
   "cell_type": "code",
   "execution_count": 2,
   "id": "59e54595-305e-457b-ba09-22e631da0b73",
   "metadata": {},
   "outputs": [],
   "source": [
    "b = [\"Geetika\",123,56.78,\"Harsh\",True]"
   ]
  },
  {
   "cell_type": "code",
   "execution_count": 3,
   "id": "b3fba42f-3443-4480-8df4-a3aced2b3c2d",
   "metadata": {},
   "outputs": [],
   "source": [
    "c = 456.76"
   ]
  },
  {
   "cell_type": "code",
   "execution_count": 4,
   "id": "a71bda40-93fd-429d-bb9b-93bc39386da6",
   "metadata": {},
   "outputs": [],
   "source": [
    "d = (34,65,76,87)"
   ]
  },
  {
   "cell_type": "code",
   "execution_count": 5,
   "id": "22de0aaa-3563-40ee-9b8e-202efea140e4",
   "metadata": {},
   "outputs": [
    {
     "data": {
      "text/plain": [
       "'Shashi Kant Sharma'"
      ]
     },
     "execution_count": 5,
     "metadata": {},
     "output_type": "execute_result"
    }
   ],
   "source": [
    "a"
   ]
  },
  {
   "cell_type": "code",
   "execution_count": 6,
   "id": "986b7a68-cfe1-469f-8d61-037e09345ac8",
   "metadata": {},
   "outputs": [
    {
     "data": {
      "text/plain": [
       "['Geetika', 123, 56.78, 'Harsh', True]"
      ]
     },
     "execution_count": 6,
     "metadata": {},
     "output_type": "execute_result"
    }
   ],
   "source": [
    "b"
   ]
  },
  {
   "cell_type": "code",
   "execution_count": 7,
   "id": "576ad60a-165e-4307-b64f-b6b8a0fa9e9f",
   "metadata": {},
   "outputs": [
    {
     "data": {
      "text/plain": [
       "456.76"
      ]
     },
     "execution_count": 7,
     "metadata": {},
     "output_type": "execute_result"
    }
   ],
   "source": [
    "c"
   ]
  },
  {
   "cell_type": "code",
   "execution_count": 8,
   "id": "86e6f0fa-5af2-4f78-95b1-e8102698b71c",
   "metadata": {},
   "outputs": [
    {
     "data": {
      "text/plain": [
       "(34, 65, 76, 87)"
      ]
     },
     "execution_count": 8,
     "metadata": {},
     "output_type": "execute_result"
    }
   ],
   "source": [
    "d"
   ]
  },
  {
   "cell_type": "markdown",
   "id": "ea125aea-bfdd-4438-86ba-a9e39425e383",
   "metadata": {},
   "source": [
    "Q2) Given are some following variables containing data:\n",
    "(i) var1 = ' '\n",
    "(ii) var2 = '[ DS , ML , Python]'\n",
    "(iii) var3 = [ 'DS' , 'ML' , 'Python' ]\n",
    "(iv) var4 = 1.\n",
    "What will be the data type of the above given variable."
   ]
  },
  {
   "cell_type": "code",
   "execution_count": 9,
   "id": "2c83d27a-dc1c-4f7b-a188-369283d7bef7",
   "metadata": {},
   "outputs": [
    {
     "data": {
      "text/plain": [
       "str"
      ]
     },
     "execution_count": 9,
     "metadata": {},
     "output_type": "execute_result"
    }
   ],
   "source": [
    "type(' ')"
   ]
  },
  {
   "cell_type": "code",
   "execution_count": 11,
   "id": "4c00e988-ed57-43d7-9070-2f38cab23178",
   "metadata": {},
   "outputs": [
    {
     "data": {
      "text/plain": [
       "str"
      ]
     },
     "execution_count": 11,
     "metadata": {},
     "output_type": "execute_result"
    }
   ],
   "source": [
    "type('[ DS , ML , Python]')"
   ]
  },
  {
   "cell_type": "code",
   "execution_count": 12,
   "id": "989adcc6-ea77-4778-b997-f013e5d75d44",
   "metadata": {},
   "outputs": [
    {
     "data": {
      "text/plain": [
       "list"
      ]
     },
     "execution_count": 12,
     "metadata": {},
     "output_type": "execute_result"
    }
   ],
   "source": [
    "type([ 'DS' , 'ML' , 'Python' ])"
   ]
  },
  {
   "cell_type": "code",
   "execution_count": 13,
   "id": "9ed33d01-33bd-460f-a79c-154f1196cd09",
   "metadata": {},
   "outputs": [
    {
     "data": {
      "text/plain": [
       "float"
      ]
     },
     "execution_count": 13,
     "metadata": {},
     "output_type": "execute_result"
    }
   ],
   "source": [
    "type(1.)"
   ]
  },
  {
   "cell_type": "markdown",
   "id": "912ccb2b-0288-49fc-b1bb-c32b1bb3ddff",
   "metadata": {},
   "source": [
    "Q3. Explain the use of the following operators using an example:\n",
    "(i) /\n",
    "(ii) %\n",
    "(iii) //\n",
    "(iv) **"
   ]
  },
  {
   "cell_type": "markdown",
   "id": "829b8d2c-a1ad-4035-8dd6-9342b20f47b5",
   "metadata": {},
   "source": [
    "i. '/' is used as division operator to get float value as output"
   ]
  },
  {
   "cell_type": "code",
   "execution_count": 14,
   "id": "0f7bddd4-4482-4039-9120-72417183b768",
   "metadata": {},
   "outputs": [
    {
     "data": {
      "text/plain": [
       "18.666666666666668"
      ]
     },
     "execution_count": 14,
     "metadata": {},
     "output_type": "execute_result"
    }
   ],
   "source": [
    "56 / 3"
   ]
  },
  {
   "cell_type": "markdown",
   "id": "bf49a1a1-6242-4f46-a10c-98d768c0d9cd",
   "metadata": {},
   "source": [
    "ii. '%' modulo operator is used to get the remainder after dividing two inputs"
   ]
  },
  {
   "cell_type": "code",
   "execution_count": 15,
   "id": "70121bf4-beb5-46ea-ae1d-fd4e6fa004fe",
   "metadata": {},
   "outputs": [
    {
     "data": {
      "text/plain": [
       "2"
      ]
     },
     "execution_count": 15,
     "metadata": {},
     "output_type": "execute_result"
    }
   ],
   "source": [
    "56 % 3"
   ]
  },
  {
   "cell_type": "markdown",
   "id": "065f8ab6-3285-4af5-b74d-5704678988f2",
   "metadata": {},
   "source": [
    "iii. '//' floor division is used when we want an integer output after dividing two numbers."
   ]
  },
  {
   "cell_type": "code",
   "execution_count": 16,
   "id": "5a7318c1-ee7d-4fa4-bc92-1d7343e8dc60",
   "metadata": {},
   "outputs": [
    {
     "data": {
      "text/plain": [
       "18"
      ]
     },
     "execution_count": 16,
     "metadata": {},
     "output_type": "execute_result"
    }
   ],
   "source": [
    "56 // 3"
   ]
  },
  {
   "cell_type": "markdown",
   "id": "c385e2ac-3129-4f2a-a0c7-90e7569d050e",
   "metadata": {},
   "source": [
    "iv. '**' is used to calculate power"
   ]
  },
  {
   "cell_type": "code",
   "execution_count": 17,
   "id": "34edfbbb-9b4a-48a0-b20f-61a68dcc7c93",
   "metadata": {},
   "outputs": [
    {
     "data": {
      "text/plain": [
       "8"
      ]
     },
     "execution_count": 17,
     "metadata": {},
     "output_type": "execute_result"
    }
   ],
   "source": [
    "2**3"
   ]
  },
  {
   "cell_type": "markdown",
   "id": "11ee7095-efb4-46f6-a9f4-163849a95a45",
   "metadata": {},
   "source": [
    "Q4. Create a list of length 10 of your choice containing multiple types of data. Using for loop print the\n",
    "element and its data type."
   ]
  },
  {
   "cell_type": "code",
   "execution_count": 20,
   "id": "8504f38c-fff2-42c7-abd7-56b95543a5ea",
   "metadata": {},
   "outputs": [
    {
     "name": "stdout",
     "output_type": "stream",
     "text": [
      "10\n",
      "23\n",
      "<class 'int'>\n",
      "Geetika\n",
      "<class 'str'>\n",
      "Shashi\n",
      "<class 'str'>\n",
      "56.73\n",
      "<class 'float'>\n",
      "True\n",
      "<class 'bool'>\n",
      "Harsh\n",
      "<class 'str'>\n",
      "76.89\n",
      "<class 'str'>\n",
      "89\n",
      "<class 'int'>\n",
      "9.98\n",
      "<class 'float'>\n",
      "2.0\n",
      "<class 'float'>\n"
     ]
    }
   ],
   "source": [
    "LIST = [23,\"Geetika\",\"Shashi\",56.73,True,\"Harsh\",\"76.89\",89,9.98,2.]\n",
    "print(len(LIST))\n",
    "for i in range(len(LIST)):\n",
    "    print(LIST[i])\n",
    "    print(type(LIST[i]))"
   ]
  },
  {
   "cell_type": "markdown",
   "id": "0d353e20-b56c-4074-8a74-eeb4f9815a1c",
   "metadata": {},
   "source": [
    "Q5. Using a while loop, verify if the number A is purely divisible by number B and if so then how many\n",
    "times it can be divisible."
   ]
  },
  {
   "cell_type": "code",
   "execution_count": 1,
   "id": "11539c17-0bed-4f58-ba13-d52e5c82bd54",
   "metadata": {},
   "outputs": [
    {
     "name": "stdout",
     "output_type": "stream",
     "text": [
      "A is divisible by B. It can be divided 2 times.\n"
     ]
    }
   ],
   "source": [
    "A = 100  \n",
    "B = 5    \n",
    "count = 0  \n",
    "while A % B == 0:\n",
    "    A = A // B  \n",
    "    count += 1  \n",
    "if count > 0:\n",
    "    print(f\"A is divisible by B. It can be divided {count} times.\")\n",
    "else:\n",
    "    print(\"A is not divisible by B.\")"
   ]
  },
  {
   "cell_type": "markdown",
   "id": "11b3c408-39fc-4ab9-8bb2-5b17e1fc386a",
   "metadata": {},
   "source": [
    "Q6. Create a list containing 25 int type data. Using for loop and if-else condition print if the element is\n",
    "divisible by 3 or not."
   ]
  },
  {
   "cell_type": "code",
   "execution_count": 3,
   "id": "c9ce5ee8-81ca-456a-a6bf-b301c476a4fa",
   "metadata": {},
   "outputs": [
    {
     "name": "stdout",
     "output_type": "stream",
     "text": [
      "The number 1 is not divisible by 3\n",
      "The number 2 is not divisible by 3\n",
      "The number 3 is divisible by 3\n",
      "The number 4 is not divisible by 3\n",
      "The number 5 is not divisible by 3\n",
      "The number 6 is divisible by 3\n",
      "The number 7 is not divisible by 3\n",
      "The number 8 is not divisible by 3\n",
      "The number 9 is divisible by 3\n",
      "The number 10 is not divisible by 3\n",
      "The number 12 is divisible by 3\n",
      "The number 45 is divisible by 3\n",
      "The number 56 is not divisible by 3\n",
      "The number 75 is divisible by 3\n",
      "The number 98 is not divisible by 3\n",
      "The number 63 is divisible by 3\n",
      "The number 90 is divisible by 3\n",
      "The number 23 is not divisible by 3\n",
      "The number 76 is not divisible by 3\n",
      "The number 9 is divisible by 3\n",
      "The number 2 is not divisible by 3\n",
      "The number 11 is not divisible by 3\n",
      "The number 12 is divisible by 3\n",
      "The number 13 is not divisible by 3\n",
      "The number 14 is not divisible by 3\n"
     ]
    }
   ],
   "source": [
    "l = [1,2,3,4,5,6,7,8,9,10,12,45,56,75,98,63,90,23,76,9,2,11,12,13,14]\n",
    "for i in l:\n",
    "    if i%3 == 0:\n",
    "        print(f\"The number {i} is divisible by 3\")\n",
    "    else:\n",
    "        print(f\"The number {i} is not divisible by 3\")"
   ]
  },
  {
   "cell_type": "markdown",
   "id": "26d9d78c-f6bd-4c25-865d-f6562c3e7248",
   "metadata": {},
   "source": [
    "Q7. What do you understand about mutable and immutable data types? Give examples for both showing\n",
    "this property."
   ]
  },
  {
   "cell_type": "markdown",
   "id": "7bba6cfe-ca5a-470c-8d8d-21f075f58fd4",
   "metadata": {},
   "source": [
    "Mutable data types are those data types that can be altered with respect to its indexes. It means, the element at a particular indexes of variable can be changed. For example, list\n",
    "Immutable data types are those data types that can not be changes with respect to the indexes. It means, the element at a particular index can not be changed. For example, string, tuple."
   ]
  },
  {
   "cell_type": "code",
   "execution_count": 4,
   "id": "f648bf10-6053-4931-b43b-8db43254b26b",
   "metadata": {},
   "outputs": [],
   "source": [
    "s = \"Geetika\""
   ]
  },
  {
   "cell_type": "code",
   "execution_count": 1,
   "id": "8e0a98ea-ae7f-48ea-985f-13181935eaf4",
   "metadata": {},
   "outputs": [
    {
     "ename": "NameError",
     "evalue": "name 's' is not defined",
     "output_type": "error",
     "traceback": [
      "\u001b[0;31m---------------------------------------------------------------------------\u001b[0m",
      "\u001b[0;31mNameError\u001b[0m                                 Traceback (most recent call last)",
      "Cell \u001b[0;32mIn[1], line 1\u001b[0m\n\u001b[0;32m----> 1\u001b[0m \u001b[43ms\u001b[49m[\u001b[38;5;241m2\u001b[39m] \u001b[38;5;241m=\u001b[39m \u001b[38;5;124m\"\u001b[39m\u001b[38;5;124mt\u001b[39m\u001b[38;5;124m\"\u001b[39m\n",
      "\u001b[0;31mNameError\u001b[0m: name 's' is not defined"
     ]
    }
   ],
   "source": [
    "s[2] = \"t\""
   ]
  },
  {
   "cell_type": "code",
   "execution_count": 2,
   "id": "239c85d6-7f08-46ae-8cda-e8b76a56316d",
   "metadata": {},
   "outputs": [],
   "source": [
    "s = \"Shashi Kant Sharma\""
   ]
  },
  {
   "cell_type": "code",
   "execution_count": 3,
   "id": "b51d5704-751f-4cb7-bc29-8a714f154a23",
   "metadata": {},
   "outputs": [
    {
     "data": {
      "text/plain": [
       "'Shashi Kant Sharma'"
      ]
     },
     "execution_count": 3,
     "metadata": {},
     "output_type": "execute_result"
    }
   ],
   "source": [
    "s"
   ]
  },
  {
   "cell_type": "code",
   "execution_count": 4,
   "id": "5291ed2d-7e67-4cf8-bb50-8d156c8a8c63",
   "metadata": {},
   "outputs": [],
   "source": [
    "l = [45,\"Duke\",\"HARSH\"]"
   ]
  },
  {
   "cell_type": "code",
   "execution_count": 5,
   "id": "8f0eb61b-6f9a-4b32-becf-b3094c07b8bd",
   "metadata": {},
   "outputs": [],
   "source": [
    "l[1] = \"76\""
   ]
  },
  {
   "cell_type": "code",
   "execution_count": 6,
   "id": "9d7f4ffc-7145-4c61-8a8d-00c1f787b4cf",
   "metadata": {},
   "outputs": [
    {
     "data": {
      "text/plain": [
       "[45, '76', 'HARSH']"
      ]
     },
     "execution_count": 6,
     "metadata": {},
     "output_type": "execute_result"
    }
   ],
   "source": [
    "l"
   ]
  },
  {
   "cell_type": "code",
   "execution_count": 7,
   "id": "6651179f-9ee2-41a5-8cca-81b7535fbfaa",
   "metadata": {},
   "outputs": [],
   "source": [
    "t = (54,76,\"Tuple\",\"PW\")"
   ]
  },
  {
   "cell_type": "code",
   "execution_count": 8,
   "id": "2cdb329b-761a-43df-b7d4-265387b02afe",
   "metadata": {},
   "outputs": [
    {
     "ename": "TypeError",
     "evalue": "'tuple' object does not support item assignment",
     "output_type": "error",
     "traceback": [
      "\u001b[0;31m---------------------------------------------------------------------------\u001b[0m",
      "\u001b[0;31mTypeError\u001b[0m                                 Traceback (most recent call last)",
      "Cell \u001b[0;32mIn[8], line 1\u001b[0m\n\u001b[0;32m----> 1\u001b[0m \u001b[43mt\u001b[49m\u001b[43m[\u001b[49m\u001b[38;5;241;43m3\u001b[39;49m\u001b[43m]\u001b[49m \u001b[38;5;241m=\u001b[39m \u001b[38;5;241m56\u001b[39m\n",
      "\u001b[0;31mTypeError\u001b[0m: 'tuple' object does not support item assignment"
     ]
    }
   ],
   "source": [
    "t[3] = 56"
   ]
  },
  {
   "cell_type": "code",
   "execution_count": null,
   "id": "f4e071dc-d2ab-445f-9e8a-f78c5703ff58",
   "metadata": {},
   "outputs": [],
   "source": []
  }
 ],
 "metadata": {
  "kernelspec": {
   "display_name": "Python 3 (ipykernel)",
   "language": "python",
   "name": "python3"
  },
  "language_info": {
   "codemirror_mode": {
    "name": "ipython",
    "version": 3
   },
   "file_extension": ".py",
   "mimetype": "text/x-python",
   "name": "python",
   "nbconvert_exporter": "python",
   "pygments_lexer": "ipython3",
   "version": "3.10.8"
  }
 },
 "nbformat": 4,
 "nbformat_minor": 5
}
